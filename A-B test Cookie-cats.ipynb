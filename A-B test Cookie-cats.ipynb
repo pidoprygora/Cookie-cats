{
 "cells": [
  {
   "cell_type": "code",
   "execution_count": 67,
   "id": "135d5707-99e1-465f-8905-388e2777cc78",
   "metadata": {},
   "outputs": [],
   "source": [
    "import pandas as pd\n",
    "from scipy import stats\n",
    "from scipy.stats import chi2_contingency\n",
    "import statsmodels.api as sm"
   ]
  },
  {
   "cell_type": "code",
   "execution_count": 45,
   "id": "51572766-7c61-455c-bbf8-c28a799e9d96",
   "metadata": {},
   "outputs": [],
   "source": [
    "data = pd.read_csv('cookie_cats.txt', sep=',')"
   ]
  },
  {
   "cell_type": "code",
   "execution_count": 47,
   "id": "3f66ce44-395a-4f63-b1f2-00d6bf1fd318",
   "metadata": {},
   "outputs": [],
   "source": [
    "df = pd.DataFrame(data)"
   ]
  },
  {
   "cell_type": "code",
   "execution_count": 49,
   "id": "e20c5ee0-ebe4-4393-a3ca-5e09125d71ca",
   "metadata": {},
   "outputs": [
    {
     "name": "stdout",
     "output_type": "stream",
     "text": [
      "   userid  version  sum_gamerounds  retention_1  retention_7\n",
      "0     116  gate_30               3        False        False\n",
      "1     337  gate_30              38         True        False\n",
      "2     377  gate_40             165         True        False\n",
      "3     483  gate_40               1        False        False\n",
      "4     488  gate_40             179         True         True\n"
     ]
    }
   ],
   "source": [
    "print(data.head())"
   ]
  },
  {
   "cell_type": "code",
   "execution_count": 51,
   "id": "7bbae8bf-9d44-439d-8f12-3da97fba4048",
   "metadata": {},
   "outputs": [
    {
     "name": "stdout",
     "output_type": "stream",
     "text": [
      "userid            0\n",
      "version           0\n",
      "sum_gamerounds    0\n",
      "retention_1       0\n",
      "retention_7       0\n",
      "dtype: int64\n"
     ]
    }
   ],
   "source": [
    "print(data.isnull().sum())"
   ]
  },
  {
   "cell_type": "code",
   "execution_count": 53,
   "id": "55c333ad-0797-422b-8928-99b3cd287354",
   "metadata": {},
   "outputs": [],
   "source": [
    "group_30 = data[data['version'] == 'gate_30']['sum_gamerounds']\n",
    "group_40 = data[data['version'] == 'gate_40']['sum_gamerounds']"
   ]
  },
  {
   "cell_type": "code",
   "execution_count": 55,
   "id": "c2af619b-4631-480e-b0bc-d62641b85669",
   "metadata": {},
   "outputs": [
    {
     "name": "stdout",
     "output_type": "stream",
     "text": [
      "Mean for gate_30: 52.45626398210291\n",
      "Mean for gate_40: 51.29877552814966\n"
     ]
    }
   ],
   "source": [
    "print(f'Mean for gate_30: {group_30.mean()}')\n",
    "print(f'Mean for gate_40: {group_40.mean()}')"
   ]
  },
  {
   "cell_type": "code",
   "execution_count": 57,
   "id": "97c56720-145b-409e-990d-e896838ca47e",
   "metadata": {},
   "outputs": [
    {
     "name": "stdout",
     "output_type": "stream",
     "text": [
      "u_stat: 1024331250.5\n",
      "p-value: 0.05020880772044255\n"
     ]
    }
   ],
   "source": [
    "u_stat, p_value = stats.mannwhitneyu(group_30, group_40)\n",
    "\n",
    "print(f'u_stat: {u_stat}')\n",
    "print(f'p-value: {p_value}')"
   ]
  },
  {
   "cell_type": "code",
   "execution_count": 59,
   "id": "f4cba7ab-54d6-4f54-8396-517a2050d31b",
   "metadata": {},
   "outputs": [
    {
     "name": "stdout",
     "output_type": "stream",
     "text": [
      "returned_1 true: version\n",
      "gate_30    20034\n",
      "gate_40    20119\n",
      "dtype: int64\n",
      "returned_7 true: version\n",
      "gate_30    8502\n",
      "gate_40    8279\n",
      "dtype: int64\n"
     ]
    }
   ],
   "source": [
    "returned_1 = df[df['retention_1'] == True].groupby('version').size()\n",
    "returned_7 = df[df['retention_7'] == True].groupby('version').size()\n",
    "\n",
    "print(f'returned_1 true: {returned_1}')\n",
    "print(f'returned_7 true: {returned_7}')"
   ]
  },
  {
   "cell_type": "code",
   "execution_count": 61,
   "id": "2ade9212-20ed-4093-b9e6-6a6fef03c57e",
   "metadata": {},
   "outputs": [
    {
     "name": "stdout",
     "output_type": "stream",
     "text": [
      "returned_1_0 true: version\n",
      "gate_30    24666\n",
      "gate_40    25370\n",
      "dtype: int64\n",
      "returned_7_0 true: version\n",
      "gate_30    36198\n",
      "gate_40    37210\n",
      "dtype: int64\n"
     ]
    }
   ],
   "source": [
    "returned_1_0 = df[df['retention_1'] == False].groupby('version').size()\n",
    "returned_7_0 = df[df['retention_7'] == False].groupby('version').size()\n",
    "\n",
    "print(f'returned_1_0 true: {returned_1_0}')\n",
    "print(f'returned_7_0 true: {returned_7_0}')"
   ]
  },
  {
   "cell_type": "code",
   "execution_count": 63,
   "id": "629b45f1-a9d3-460d-97a7-729664d9fae0",
   "metadata": {},
   "outputs": [
    {
     "name": "stdout",
     "output_type": "stream",
     "text": [
      "grouped_counts: version\n",
      "gate_30    44700\n",
      "gate_40    45489\n",
      "dtype: int64\n"
     ]
    }
   ],
   "source": [
    "grouped_counts = df.groupby('version').size()\n",
    "\n",
    "print(f'grouped_counts: {grouped_counts}')"
   ]
  },
  {
   "cell_type": "code",
   "execution_count": 69,
   "id": "89e0048a-b880-4415-8b0b-28816fc02936",
   "metadata": {},
   "outputs": [
    {
     "name": "stdout",
     "output_type": "stream",
     "text": [
      "Z-st: 1.7840862247974725\n",
      "p-value: 0.07440965529691913\n"
     ]
    }
   ],
   "source": [
    "z_stat, p_value = sm.stats.proportions_ztest([20034, 20119], [44700, 45489])\n",
    "\n",
    "print(f'Z-st: {z_stat}')\n",
    "print(f'p-value: {p_value}')"
   ]
  },
  {
   "cell_type": "code",
   "execution_count": 71,
   "id": "765c7e58-a53b-47bd-ae09-24c6f36e73c3",
   "metadata": {},
   "outputs": [],
   "source": [
    "df['version'] = df['version'].map({'gate_30': 0, 'gate_40': 1})"
   ]
  },
  {
   "cell_type": "code",
   "execution_count": 73,
   "id": "3839687a-82b6-40e2-a530-47c2b628015e",
   "metadata": {},
   "outputs": [],
   "source": [
    "X = df[['version', 'sum_gamerounds']]  \n",
    "y = df['retention_1']  "
   ]
  },
  {
   "cell_type": "code",
   "execution_count": 75,
   "id": "19482883-60b6-47d9-8b02-d8e838724d22",
   "metadata": {},
   "outputs": [],
   "source": [
    "X = sm.add_constant(X)"
   ]
  },
  {
   "cell_type": "code",
   "execution_count": 77,
   "id": "70f65c6a-6440-498d-a68b-820156355fb0",
   "metadata": {},
   "outputs": [
    {
     "name": "stdout",
     "output_type": "stream",
     "text": [
      "Optimization terminated successfully.\n",
      "         Current function value: inf\n",
      "         Iterations 8\n"
     ]
    },
    {
     "name": "stderr",
     "output_type": "stream",
     "text": [
      "C:\\Users\\acer\\anaconda3\\Lib\\site-packages\\statsmodels\\discrete\\discrete_model.py:2385: RuntimeWarning: overflow encountered in exp\n",
      "  return 1/(1+np.exp(-X))\n",
      "C:\\Users\\acer\\anaconda3\\Lib\\site-packages\\statsmodels\\discrete\\discrete_model.py:2443: RuntimeWarning: divide by zero encountered in log\n",
      "  return np.sum(np.log(self.cdf(q * linpred)))\n"
     ]
    }
   ],
   "source": [
    "logit_model = sm.Logit(y, X)\n",
    "result = logit_model.fit()"
   ]
  },
  {
   "cell_type": "code",
   "execution_count": 79,
   "id": "87671bd9-0df7-4f9c-b04d-352f4b720da8",
   "metadata": {},
   "outputs": [
    {
     "name": "stderr",
     "output_type": "stream",
     "text": [
      "C:\\Users\\acer\\anaconda3\\Lib\\site-packages\\statsmodels\\discrete\\discrete_model.py:2385: RuntimeWarning: overflow encountered in exp\n",
      "  return 1/(1+np.exp(-X))\n",
      "C:\\Users\\acer\\anaconda3\\Lib\\site-packages\\statsmodels\\discrete\\discrete_model.py:2443: RuntimeWarning: divide by zero encountered in log\n",
      "  return np.sum(np.log(self.cdf(q * linpred)))\n"
     ]
    },
    {
     "name": "stdout",
     "output_type": "stream",
     "text": [
      "                           Logit Regression Results                           \n",
      "==============================================================================\n",
      "Dep. Variable:            retention_1   No. Observations:                90189\n",
      "Model:                          Logit   Df Residuals:                    90186\n",
      "Method:                           MLE   Df Model:                            2\n",
      "Date:                Wed, 23 Oct 2024   Pseudo R-squ.:                    -inf\n",
      "Time:                        15:18:58   Log-Likelihood:                   -inf\n",
      "converged:                       True   LL-Null:                       -61972.\n",
      "Covariance Type:            nonrobust   LLR p-value:                     1.000\n",
      "==================================================================================\n",
      "                     coef    std err          z      P>|z|      [0.025      0.975]\n",
      "----------------------------------------------------------------------------------\n",
      "const             -1.1568      0.013    -90.286      0.000      -1.182      -1.132\n",
      "version           -0.0303      0.015     -1.967      0.049      -0.061      -0.000\n",
      "sum_gamerounds     0.0273      0.000    104.492      0.000       0.027       0.028\n",
      "==================================================================================\n"
     ]
    }
   ],
   "source": [
    "print(result.summary())"
   ]
  },
  {
   "cell_type": "code",
   "execution_count": 83,
   "id": "fde58a26-b2c0-4641-b608-63e6558583a5",
   "metadata": {},
   "outputs": [
    {
     "name": "stdout",
     "output_type": "stream",
     "text": [
      "                            OLS Regression Results                            \n",
      "==============================================================================\n",
      "Dep. Variable:            retention_1   R-squared:                       0.039\n",
      "Model:                            OLS   Adj. R-squared:                  0.039\n",
      "Method:                 Least Squares   F-statistic:                     1834.\n",
      "Date:                Wed, 23 Oct 2024   Prob (F-statistic):               0.00\n",
      "Time:                        15:19:42   Log-Likelihood:                -63116.\n",
      "No. Observations:               90189   AIC:                         1.262e+05\n",
      "Df Residuals:                   90186   BIC:                         1.263e+05\n",
      "Df Model:                           2                                         \n",
      "Covariance Type:            nonrobust                                         \n",
      "==================================================================================\n",
      "                     coef    std err          t      P>|t|      [0.025      0.975]\n",
      "----------------------------------------------------------------------------------\n",
      "const              0.4218      0.002    179.842      0.000       0.417       0.426\n",
      "version           -0.0053      0.003     -1.640      0.101      -0.012       0.001\n",
      "sum_gamerounds     0.0005   8.32e-06     60.531      0.000       0.000       0.001\n",
      "==============================================================================\n",
      "Omnibus:                    50196.015   Durbin-Watson:                   2.000\n",
      "Prob(Omnibus):                  0.000   Jarque-Bera (JB):         24997411.585\n",
      "Skew:                          -1.364   Prob(JB):                         0.00\n",
      "Kurtosis:                      84.514   Cond. No.                         464.\n",
      "==============================================================================\n",
      "\n",
      "Notes:\n",
      "[1] Standard Errors assume that the covariance matrix of the errors is correctly specified.\n"
     ]
    }
   ],
   "source": [
    "lin_model = sm.OLS(y, X)\n",
    "lin_result = lin_model.fit()\n",
    "\n",
    "print(lin_result.summary())"
   ]
  },
  {
   "cell_type": "code",
   "execution_count": 85,
   "id": "a4fc310b-ba96-4467-b53a-7a8bbf6f1056",
   "metadata": {},
   "outputs": [],
   "source": [
    "X = df[['version', 'sum_gamerounds']]  \n",
    "y = df['retention_7']  "
   ]
  },
  {
   "cell_type": "code",
   "execution_count": 87,
   "id": "96d84b96-0f1a-417b-859d-73013382c048",
   "metadata": {},
   "outputs": [],
   "source": [
    "X = sm.add_constant(X)"
   ]
  },
  {
   "cell_type": "code",
   "execution_count": 89,
   "id": "672c2d6e-8f0d-4c19-896a-80b476b87148",
   "metadata": {},
   "outputs": [
    {
     "name": "stdout",
     "output_type": "stream",
     "text": [
      "Optimization terminated successfully.\n",
      "         Current function value: 0.332134\n",
      "         Iterations 8\n"
     ]
    }
   ],
   "source": [
    "logit_model = sm.Logit(y, X)\n",
    "result = logit_model.fit()"
   ]
  },
  {
   "cell_type": "code",
   "execution_count": 91,
   "id": "638da275-f415-4856-a221-cb1da4356d97",
   "metadata": {},
   "outputs": [
    {
     "name": "stdout",
     "output_type": "stream",
     "text": [
      "                           Logit Regression Results                           \n",
      "==============================================================================\n",
      "Dep. Variable:            retention_7   No. Observations:                90189\n",
      "Model:                          Logit   Df Residuals:                    90186\n",
      "Method:                           MLE   Df Model:                            2\n",
      "Date:                Wed, 23 Oct 2024   Pseudo R-squ.:                  0.3087\n",
      "Time:                        16:39:45   Log-Likelihood:                -29955.\n",
      "converged:                       True   LL-Null:                       -43333.\n",
      "Covariance Type:            nonrobust   LLR p-value:                     0.000\n",
      "==================================================================================\n",
      "                     coef    std err          z      P>|z|      [0.025      0.975]\n",
      "----------------------------------------------------------------------------------\n",
      "const             -2.6932      0.018   -147.963      0.000      -2.729      -2.658\n",
      "version           -0.0833      0.021     -3.889      0.000      -0.125      -0.041\n",
      "sum_gamerounds     0.0209      0.000    114.843      0.000       0.021       0.021\n",
      "==================================================================================\n"
     ]
    }
   ],
   "source": [
    "print(result.summary())"
   ]
  },
  {
   "cell_type": "code",
   "execution_count": 93,
   "id": "77b7e3f0-9ef7-415b-a9b5-65dafb3094ab",
   "metadata": {},
   "outputs": [
    {
     "name": "stdout",
     "output_type": "stream",
     "text": [
      "                            OLS Regression Results                            \n",
      "==============================================================================\n",
      "Dep. Variable:            retention_7   R-squared:                       0.078\n",
      "Model:                            OLS   Adj. R-squared:                  0.078\n",
      "Method:                 Least Squares   F-statistic:                     3820.\n",
      "Date:                Wed, 23 Oct 2024   Prob (F-statistic):               0.00\n",
      "Time:                        16:39:58   Log-Likelihood:                -39188.\n",
      "No. Observations:               90189   AIC:                         7.838e+04\n",
      "Df Residuals:                   90186   BIC:                         7.841e+04\n",
      "Df Model:                           2                                         \n",
      "Covariance Type:            nonrobust                                         \n",
      "==================================================================================\n",
      "                     coef    std err          t      P>|t|      [0.025      0.975]\n",
      "----------------------------------------------------------------------------------\n",
      "const              0.1610      0.002     89.492      0.000       0.157       0.164\n",
      "version           -0.0076      0.002     -3.036      0.002      -0.012      -0.003\n",
      "sum_gamerounds     0.0006   6.38e-06     87.344      0.000       0.001       0.001\n",
      "==============================================================================\n",
      "Omnibus:                    78019.664   Durbin-Watson:                   1.993\n",
      "Prob(Omnibus):                  0.000   Jarque-Bera (JB):        338055527.847\n",
      "Skew:                          -2.653   Prob(JB):                         0.00\n",
      "Kurtosis:                     302.885   Cond. No.                         464.\n",
      "==============================================================================\n",
      "\n",
      "Notes:\n",
      "[1] Standard Errors assume that the covariance matrix of the errors is correctly specified.\n"
     ]
    }
   ],
   "source": [
    "lin_model = sm.OLS(y, X)\n",
    "lin_result = lin_model.fit()\n",
    "\n",
    "print(lin_result.summary())"
   ]
  },
  {
   "cell_type": "code",
   "execution_count": 95,
   "id": "e63421de-6435-4548-a575-03a395726d2e",
   "metadata": {},
   "outputs": [],
   "source": [
    "max_value = df['sum_gamerounds'].max()"
   ]
  },
  {
   "cell_type": "code",
   "execution_count": 97,
   "id": "8885062a-b8ee-4617-8436-6a154a8af924",
   "metadata": {},
   "outputs": [],
   "source": [
    "df = df[df['sum_gamerounds'] != max_value]"
   ]
  },
  {
   "cell_type": "code",
   "execution_count": 99,
   "id": "f48ff729-660c-44dd-b102-77e63210bdd9",
   "metadata": {},
   "outputs": [],
   "source": [
    "df.reset_index(drop=True, inplace=True)"
   ]
  },
  {
   "cell_type": "code",
   "execution_count": 101,
   "id": "8db3a084-6432-4c3c-af16-d30749e02e02",
   "metadata": {},
   "outputs": [
    {
     "name": "stdout",
     "output_type": "stream",
     "text": [
      "Mean for gate_30: 52.45626398210291\n",
      "Mean for gate_40: 51.29877552814966\n"
     ]
    }
   ],
   "source": [
    "print(f'Mean for gate_30: {group_30.mean()}')\n",
    "print(f'Mean for gate_40: {group_40.mean()}')"
   ]
  },
  {
   "cell_type": "code",
   "execution_count": 105,
   "id": "ac597254-cea0-4b62-bbab-b9450fe5ba93",
   "metadata": {},
   "outputs": [],
   "source": [
    "Q1 = df['sum_gamerounds'].quantile(0.25)\n",
    "Q3 = df['sum_gamerounds'].quantile(0.75)  \n",
    "IQR = Q3 - Q1  "
   ]
  },
  {
   "cell_type": "code",
   "execution_count": 107,
   "id": "0a6ad3e4-f9a6-4f59-9d24-e3b7073783a2",
   "metadata": {},
   "outputs": [],
   "source": [
    "lower_bound = Q1 - 1.5 * IQR\n",
    "upper_bound = Q3 + 1.5 * IQR"
   ]
  },
  {
   "cell_type": "code",
   "execution_count": 109,
   "id": "00107214-c692-4b3b-aff5-56bb999ea6c4",
   "metadata": {},
   "outputs": [
    {
     "name": "stdout",
     "output_type": "stream",
     "text": [
      "Num of deleted rows: 10176\n"
     ]
    }
   ],
   "source": [
    "df_clean = df[(df['sum_gamerounds'] >= lower_bound) & (df['sum_gamerounds'] <= upper_bound)]\n",
    "print(f\"Num of deleted rows: {len(df) - len(df_clean)}\")"
   ]
  },
  {
   "cell_type": "code",
   "execution_count": null,
   "id": "2b8fcad7-58b4-4d18-a61e-f0ef5a72203a",
   "metadata": {},
   "outputs": [],
   "source": []
  },
  {
   "cell_type": "code",
   "execution_count": null,
   "id": "b9897553-9dc4-494a-9381-7f5230bd89dd",
   "metadata": {},
   "outputs": [],
   "source": []
  },
  {
   "cell_type": "code",
   "execution_count": null,
   "id": "6028581b-2886-4607-a196-85aee2ded29e",
   "metadata": {},
   "outputs": [],
   "source": []
  },
  {
   "cell_type": "code",
   "execution_count": null,
   "id": "fde8e43f-6bfc-4c26-8768-125b02f7f1c4",
   "metadata": {},
   "outputs": [],
   "source": []
  }
 ],
 "metadata": {
  "kernelspec": {
   "display_name": "Python 3 (ipykernel)",
   "language": "python",
   "name": "python3"
  },
  "language_info": {
   "codemirror_mode": {
    "name": "ipython",
    "version": 3
   },
   "file_extension": ".py",
   "mimetype": "text/x-python",
   "name": "python",
   "nbconvert_exporter": "python",
   "pygments_lexer": "ipython3",
   "version": "3.12.4"
  }
 },
 "nbformat": 4,
 "nbformat_minor": 5
}
